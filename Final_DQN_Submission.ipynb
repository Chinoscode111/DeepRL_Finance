{
 "cells": [
  {
   "cell_type": "markdown",
   "metadata": {},
   "source": [
    "# FINAL"
   ]
  },
  {
   "cell_type": "code",
   "execution_count": 1,
   "metadata": {},
   "outputs": [],
   "source": [
    "import gym\n",
    "import torch\n",
    "import torch.nn as nn\n",
    "from itertools import chain\n",
    "import matplotlib.pyplot as plt\n",
    "from tqdm import tqdm\n",
    "import random\n",
    "from torch.utils.data import Dataset, DataLoader\n",
    "import numpy as np\n",
    "from collections import deque\n",
    "\n",
    "# Q-Value Network\n",
    "class QNetwork(nn.Module):\n",
    "    def __init__(self, state_size, action_size):\n",
    "        super().__init__()\n",
    "        hidden_size = 8\n",
    "        self.net = nn.Sequential(nn.Linear(state_size, hidden_size),\n",
    "                                 nn.ReLU(),\n",
    "                                 nn.Linear(hidden_size, hidden_size),\n",
    "                                 nn.ReLU(),\n",
    "                                 nn.Linear(hidden_size, hidden_size),\n",
    "                                 nn.ReLU(),\n",
    "                                 nn.Linear(hidden_size, action_size))\n",
    "        \n",
    "    def forward(self, x):\n",
    "        \"\"\"Estimate q-values given state\n",
    "        Args:\n",
    "            state (tensor): current state, size (batch x state_size)\n",
    "        Returns:\n",
    "            q-values (tensor): estimated q-values, size (batch x action_size)\n",
    "        \"\"\"\n",
    "        return self.net(x)"
   ]
  },
  {
   "cell_type": "code",
   "execution_count": 2,
   "metadata": {},
   "outputs": [],
   "source": [
    "def get_action_dqn(network, state, epsilon, epsilon_decay):\n",
    "    rand = random.random()\n",
    "    if rand < epsilon:\n",
    "        return random.randint(0, 1), epsilon * epsilon_decay\n",
    "    else:\n",
    "        state = np.float32(state)\n",
    "        state = torch.tensor(state).unsqueeze(0).cuda()\n",
    "        return torch.argmax(network(state)).item(), epsilon * epsilon_decay\n",
    "\n",
    "def prepare_batch(memory, batch_size):\n",
    "    \"\"\"Randomly sample batch from memory and prepare cuda tensors\n",
    "    Args:\n",
    "        memory (list): state, action, next_state, reward, done tuples\n",
    "        batch_size (int): amount of memory to sample into a batch\n",
    "    Returns:\n",
    "        state (tensor): float cuda tensor of size (batch_size x state_size)\n",
    "        action (tensor): long tensor of size (batch_size)\n",
    "        next_state (tensor): float cuda tensor of size (batch_size x state_size)\n",
    "        reward (tensor): float cuda tensor of size (batch_size)\n",
    "        done (tensor): float cuda tensor of size (batch_size)\n",
    "    \"\"\"\n",
    "    slices = np.random.randint(0, len(memory), batch_size)\n",
    "    batch = [memory[idx] for idx in slices]\n",
    "    state, action, next_state, reward, done = zip(*batch)\n",
    "\n",
    "    state = torch.tensor(state).float().cuda()\n",
    "    action = torch.tensor(action).long().cuda()\n",
    "    next_state = torch.tensor(next_state).float().cuda()\n",
    "    reward = torch.tensor(reward).float().cuda()\n",
    "    done = torch.tensor(done).float().cuda()\n",
    "\n",
    "    return state, action, next_state, reward, done"
   ]
  },
  {
   "cell_type": "code",
   "execution_count": 3,
   "metadata": {},
   "outputs": [],
   "source": [
    "def learn_dqn(batch, optim, q_network, target_network, gamma, global_step, target_update):\n",
    "    \"\"\"Update Q-Network according to DQN Loss function\n",
    "    Update Target Network every target_update global steps\n",
    "    Args:\n",
    "        batch (tuple): tuple of state, action, next_state, reward, and done tensors\n",
    "        optim (Adam): Q-Network optimizer\n",
    "        q_network (QNetwork): Q-Network\n",
    "        target_network (QNetwork): Target Q-Network\n",
    "        gamma (float): discount factor\n",
    "        global_step (int): total steps taken in environment\n",
    "        target_update (int): frequency of target network update\n",
    "    \"\"\"\n",
    "    state, action, next_state, reward, done = batch\n",
    "    batch_size = state.size(0)\n",
    "\n",
    "    q_values = q_network(state)\n",
    "    next_q_values = target_network(next_state)\n",
    "    next_q_state_values = next_q_values.max(1)[0]\n",
    "\n",
    "    q_value = q_values.gather(1, action.unsqueeze(1)).squeeze(1)\n",
    "    expected_q_value = reward + gamma * next_q_state_values * (1 - done)\n",
    "\n",
    "    loss = (q_value - expected_q_value.detach()).pow(2).mean()\n",
    "\n",
    "    optim.zero_grad()\n",
    "    loss.backward()\n",
    "    optim.step()\n",
    "\n",
    "    if global_step % target_update == 0:\n",
    "        target_network.load_state_dict(q_network.state_dict())\n",
    "        print('Updated target network.')\n",
    "\n",
    "    return loss.item()"
   ]
  },
  {
   "cell_type": "code",
   "execution_count": 4,
   "metadata": {},
   "outputs": [
    {
     "name": "stderr",
     "output_type": "stream",
     "text": [
      "  0%|                                                                                     | 0/500 [00:00<?, ?it/s]D:\\Python\\Python 3.11.0\\Lib\\site-packages\\gym\\utils\\passive_env_checker.py:233: DeprecationWarning: `np.bool8` is a deprecated alias for `np.bool_`.  (Deprecated NumPy 1.24)\n",
      "  if not isinstance(terminated, (bool, np.bool8)):\n",
      "Episodes: 46 Reward: 45.0:   9%|████▌                                            | 47/500 [00:22<04:40,  1.61it/s]C:\\Users\\Swarup\\AppData\\Local\\Temp\\ipykernel_16952\\2870465981.py:26: UserWarning: Creating a tensor from a list of numpy.ndarrays is extremely slow. Please consider converting the list to a single numpy.ndarray with numpy.array() before converting to a tensor. (Triggered internally at ..\\torch\\csrc\\utils\\tensor_new.cpp:278.)\n",
      "  state = torch.tensor(state).float().cuda()\n",
      "Episodes: 103 Reward: 25.0:  21%|█████████▊                                     | 104/500 [00:45<02:44,  2.41it/s]"
     ]
    },
    {
     "name": "stdout",
     "output_type": "stream",
     "text": [
      "Updated target network.\n"
     ]
    },
    {
     "name": "stderr",
     "output_type": "stream",
     "text": [
      "Episodes: 157 Reward: 18.0:  32%|██████████████▊                                | 158/500 [01:08<02:23,  2.38it/s]"
     ]
    },
    {
     "name": "stdout",
     "output_type": "stream",
     "text": [
      "Updated target network.\n"
     ]
    },
    {
     "name": "stderr",
     "output_type": "stream",
     "text": [
      "Episodes: 203 Reward: 32.0:  41%|███████████████████▏                           | 204/500 [01:30<02:42,  1.82it/s]"
     ]
    },
    {
     "name": "stdout",
     "output_type": "stream",
     "text": [
      "Updated target network.\n"
     ]
    },
    {
     "name": "stderr",
     "output_type": "stream",
     "text": [
      "Episodes: 238 Reward: 15.0:  48%|██████████████████████▍                        | 239/500 [01:51<02:28,  1.76it/s]"
     ]
    },
    {
     "name": "stdout",
     "output_type": "stream",
     "text": [
      "Updated target network.\n"
     ]
    },
    {
     "name": "stderr",
     "output_type": "stream",
     "text": [
      "Episodes: 275 Reward: 28.0:  55%|█████████████████████████▉                     | 276/500 [02:13<02:38,  1.41it/s]"
     ]
    },
    {
     "name": "stdout",
     "output_type": "stream",
     "text": [
      "Updated target network.\n"
     ]
    },
    {
     "name": "stderr",
     "output_type": "stream",
     "text": [
      "Episodes: 304 Reward: 47.0:  61%|████████████████████████████▋                  | 305/500 [02:34<02:49,  1.15it/s]"
     ]
    },
    {
     "name": "stdout",
     "output_type": "stream",
     "text": [
      "Updated target network.\n"
     ]
    },
    {
     "name": "stderr",
     "output_type": "stream",
     "text": [
      "Episodes: 327 Reward: 62.0:  66%|██████████████████████████████▊                | 328/500 [02:55<02:35,  1.11it/s]"
     ]
    },
    {
     "name": "stdout",
     "output_type": "stream",
     "text": [
      "Updated target network.\n"
     ]
    },
    {
     "name": "stderr",
     "output_type": "stream",
     "text": [
      "Episodes: 343 Reward: 48.0:  69%|████████████████████████████████▎              | 344/500 [03:16<04:06,  1.58s/it]"
     ]
    },
    {
     "name": "stdout",
     "output_type": "stream",
     "text": [
      "Updated target network.\n"
     ]
    },
    {
     "name": "stderr",
     "output_type": "stream",
     "text": [
      "Episodes: 357 Reward: 72.0:  72%|█████████████████████████████████▋             | 358/500 [03:39<03:30,  1.48s/it]"
     ]
    },
    {
     "name": "stdout",
     "output_type": "stream",
     "text": [
      "Updated target network.\n"
     ]
    },
    {
     "name": "stderr",
     "output_type": "stream",
     "text": [
      "Episodes: 368 Reward: 69.0:  74%|██████████████████████████████████▋            | 369/500 [04:00<04:15,  1.95s/it]"
     ]
    },
    {
     "name": "stdout",
     "output_type": "stream",
     "text": [
      "Updated target network.\n"
     ]
    },
    {
     "name": "stderr",
     "output_type": "stream",
     "text": [
      "Episodes: 377 Reward: 94.0:  76%|███████████████████████████████████▌           | 378/500 [04:21<04:33,  2.24s/it]"
     ]
    },
    {
     "name": "stdout",
     "output_type": "stream",
     "text": [
      "Updated target network.\n"
     ]
    },
    {
     "name": "stderr",
     "output_type": "stream",
     "text": [
      "Episodes: 384 Reward: 151.0:  77%|███████████████████████████████████▍          | 385/500 [04:41<05:38,  2.94s/it]"
     ]
    },
    {
     "name": "stdout",
     "output_type": "stream",
     "text": [
      "Updated target network.\n"
     ]
    },
    {
     "name": "stderr",
     "output_type": "stream",
     "text": [
      "Episodes: 390 Reward: 168.0:  78%|███████████████████████████████████▉          | 391/500 [05:01<05:54,  3.25s/it]"
     ]
    },
    {
     "name": "stdout",
     "output_type": "stream",
     "text": [
      "Updated target network.\n"
     ]
    },
    {
     "name": "stderr",
     "output_type": "stream",
     "text": [
      "Episodes: 395 Reward: 159.0:  79%|████████████████████████████████████▍         | 396/500 [05:24<06:59,  4.04s/it]"
     ]
    },
    {
     "name": "stdout",
     "output_type": "stream",
     "text": [
      "Updated target network.\n"
     ]
    },
    {
     "name": "stderr",
     "output_type": "stream",
     "text": [
      "Episodes: 402 Reward: 105.0:  81%|█████████████████████████████████████         | 403/500 [05:47<05:08,  3.18s/it]"
     ]
    },
    {
     "name": "stdout",
     "output_type": "stream",
     "text": [
      "Updated target network.\n"
     ]
    },
    {
     "name": "stderr",
     "output_type": "stream",
     "text": [
      "Episodes: 408 Reward: 200.0:  82%|█████████████████████████████████████▋        | 409/500 [06:08<05:38,  3.72s/it]"
     ]
    },
    {
     "name": "stdout",
     "output_type": "stream",
     "text": [
      "Updated target network.\n"
     ]
    },
    {
     "name": "stderr",
     "output_type": "stream",
     "text": [
      "Episodes: 414 Reward: 192.0:  83%|██████████████████████████████████████▏       | 415/500 [06:29<05:20,  3.77s/it]"
     ]
    },
    {
     "name": "stdout",
     "output_type": "stream",
     "text": [
      "Updated target network.\n"
     ]
    },
    {
     "name": "stderr",
     "output_type": "stream",
     "text": [
      "Episodes: 419 Reward: 200.0:  84%|██████████████████████████████████████▋       | 420/500 [06:50<05:29,  4.11s/it]"
     ]
    },
    {
     "name": "stdout",
     "output_type": "stream",
     "text": [
      "Updated target network.\n"
     ]
    },
    {
     "name": "stderr",
     "output_type": "stream",
     "text": [
      "Episodes: 424 Reward: 200.0:  85%|███████████████████████████████████████       | 425/500 [07:11<05:11,  4.15s/it]"
     ]
    },
    {
     "name": "stdout",
     "output_type": "stream",
     "text": [
      "Updated target network.\n"
     ]
    },
    {
     "name": "stderr",
     "output_type": "stream",
     "text": [
      "Episodes: 429 Reward: 200.0:  86%|███████████████████████████████████████▌      | 430/500 [07:31<04:48,  4.12s/it]"
     ]
    },
    {
     "name": "stdout",
     "output_type": "stream",
     "text": [
      "Updated target network.\n"
     ]
    },
    {
     "name": "stderr",
     "output_type": "stream",
     "text": [
      "Episodes: 435 Reward: 174.0:  87%|████████████████████████████████████████      | 436/500 [07:54<03:57,  3.71s/it]"
     ]
    },
    {
     "name": "stdout",
     "output_type": "stream",
     "text": [
      "Updated target network.\n"
     ]
    },
    {
     "name": "stderr",
     "output_type": "stream",
     "text": [
      "Episodes: 440 Reward: 184.0:  88%|████████████████████████████████████████▌     | 441/500 [08:12<03:41,  3.76s/it]"
     ]
    },
    {
     "name": "stdout",
     "output_type": "stream",
     "text": [
      "Updated target network.\n"
     ]
    },
    {
     "name": "stderr",
     "output_type": "stream",
     "text": [
      "Episodes: 445 Reward: 193.0:  89%|█████████████████████████████████████████     | 446/500 [08:32<03:32,  3.94s/it]"
     ]
    },
    {
     "name": "stdout",
     "output_type": "stream",
     "text": [
      "Updated target network.\n"
     ]
    },
    {
     "name": "stderr",
     "output_type": "stream",
     "text": [
      "Episodes: 451 Reward: 177.0:  90%|█████████████████████████████████████████▌    | 452/500 [08:59<03:41,  4.61s/it]"
     ]
    },
    {
     "name": "stdout",
     "output_type": "stream",
     "text": [
      "Updated target network.\n"
     ]
    },
    {
     "name": "stderr",
     "output_type": "stream",
     "text": [
      "Episodes: 456 Reward: 200.0:  91%|██████████████████████████████████████████    | 457/500 [09:19<02:59,  4.18s/it]"
     ]
    },
    {
     "name": "stdout",
     "output_type": "stream",
     "text": [
      "Updated target network.\n"
     ]
    },
    {
     "name": "stderr",
     "output_type": "stream",
     "text": [
      "Episodes: 461 Reward: 200.0:  92%|██████████████████████████████████████████▌   | 462/500 [09:40<02:36,  4.11s/it]"
     ]
    },
    {
     "name": "stdout",
     "output_type": "stream",
     "text": [
      "Updated target network.\n"
     ]
    },
    {
     "name": "stderr",
     "output_type": "stream",
     "text": [
      "Episodes: 467 Reward: 179.0:  94%|███████████████████████████████████████████   | 468/500 [10:03<02:02,  3.84s/it]"
     ]
    },
    {
     "name": "stdout",
     "output_type": "stream",
     "text": [
      "Updated target network.\n"
     ]
    },
    {
     "name": "stderr",
     "output_type": "stream",
     "text": [
      "Episodes: 472 Reward: 199.0:  95%|███████████████████████████████████████████▌  | 473/500 [10:24<01:50,  4.11s/it]"
     ]
    },
    {
     "name": "stdout",
     "output_type": "stream",
     "text": [
      "Updated target network.\n"
     ]
    },
    {
     "name": "stderr",
     "output_type": "stream",
     "text": [
      "Episodes: 477 Reward: 186.0:  96%|███████████████████████████████████████████▉  | 478/500 [10:44<01:27,  3.98s/it]"
     ]
    },
    {
     "name": "stdout",
     "output_type": "stream",
     "text": [
      "Updated target network.\n"
     ]
    },
    {
     "name": "stderr",
     "output_type": "stream",
     "text": [
      "Episodes: 482 Reward: 200.0:  97%|████████████████████████████████████████████▍ | 483/500 [11:04<01:09,  4.09s/it]"
     ]
    },
    {
     "name": "stdout",
     "output_type": "stream",
     "text": [
      "Updated target network.\n"
     ]
    },
    {
     "name": "stderr",
     "output_type": "stream",
     "text": [
      "Episodes: 487 Reward: 200.0:  98%|████████████████████████████████████████████▉ | 488/500 [11:25<00:49,  4.14s/it]"
     ]
    },
    {
     "name": "stdout",
     "output_type": "stream",
     "text": [
      "Updated target network.\n"
     ]
    },
    {
     "name": "stderr",
     "output_type": "stream",
     "text": [
      "Episodes: 492 Reward: 200.0:  99%|█████████████████████████████████████████████▎| 493/500 [11:45<00:29,  4.15s/it]"
     ]
    },
    {
     "name": "stdout",
     "output_type": "stream",
     "text": [
      "Updated target network.\n"
     ]
    },
    {
     "name": "stderr",
     "output_type": "stream",
     "text": [
      "Episodes: 497 Reward: 200.0: 100%|█████████████████████████████████████████████▊| 498/500 [12:06<00:08,  4.16s/it]"
     ]
    },
    {
     "name": "stdout",
     "output_type": "stream",
     "text": [
      "Updated target network.\n"
     ]
    },
    {
     "name": "stderr",
     "output_type": "stream",
     "text": [
      "Episodes: 499 Reward: 177.0: 100%|██████████████████████████████████████████████| 500/500 [12:14<00:00,  4.01s/it]"
     ]
    },
    {
     "data": {
      "image/png": "[encoded data removed]",
      "text/plain": [
       "<Figure size 640x480 with 1 Axes>"
      ]
     },
     "metadata": {},
     "output_type": "display_data"
    }
   ],
   "source": [
    "def dqn_main():\n",
    "    # Hyper parameters\n",
    "    lr = 1e-3\n",
    "    epochs = 500\n",
    "    start_training = 1000\n",
    "    gamma = 0.99\n",
    "    batch_size = 32\n",
    "    epsilon = 1\n",
    "    epsilon_decay = 0.9999\n",
    "    target_update = 1000\n",
    "    learn_frequency = 2\n",
    "    render_interval = 50  # Render every 50 episodes\n",
    "\n",
    "    # Init environment\n",
    "    state_size = 4\n",
    "    action_size = 2\n",
    "    env = gym.make('CartPole-v1', render_mode='human')\n",
    "\n",
    "    # Init networks\n",
    "    q_network = QNetwork(state_size, action_size).cuda()\n",
    "    target_network = QNetwork(state_size, action_size).cuda()\n",
    "    target_network.load_state_dict(q_network.state_dict())\n",
    "\n",
    "    # Init optimizer\n",
    "    optim = torch.optim.Adam(q_network.parameters(), lr=lr)\n",
    "\n",
    "    # Init replay buffer\n",
    "    memory = deque(maxlen=10000)\n",
    "\n",
    "    # Begin main loop\n",
    "    results_dqn = []\n",
    "    global_step = 0\n",
    "    loop = tqdm(total=epochs, position=0, leave=False)\n",
    "    for epoch in range(epochs):\n",
    "        # Reset environment\n",
    "        state = env.reset()[0]\n",
    "        done = False\n",
    "        cum_reward = 0  # Track cumulative reward per episode\n",
    "\n",
    "        # Begin episode\n",
    "        while not done and cum_reward < 200:  # End after 200 steps \n",
    "            if epoch % render_interval == 0:\n",
    "                env.render()  # Render the environment for visualization\n",
    "            \n",
    "            # Select e-greedy action\n",
    "            action, epsilon = get_action_dqn(q_network, state, epsilon, epsilon_decay)\n",
    "            # Take step\n",
    "            next_state, reward, done, *_ = env.step(action)\n",
    "            # env.render()\n",
    "\n",
    "            # Store step in replay buffer\n",
    "            memory.append((state, action, next_state, reward, done))\n",
    "\n",
    "            cum_reward += reward\n",
    "            global_step += 1  # Increment total steps\n",
    "            state = next_state  # Set current state\n",
    "\n",
    "            # If time to train\n",
    "            if global_step > start_training and global_step % learn_frequency == 0:\n",
    "                # Sample batch\n",
    "                batch = prepare_batch(memory, batch_size)\n",
    "                # Train\n",
    "                learn_dqn(batch, optim, q_network, target_network, gamma, global_step, target_update)\n",
    "\n",
    "        # Print results at end of episode\n",
    "        results_dqn.append(cum_reward)\n",
    "        loop.update(1)\n",
    "        loop.set_description(f'Episodes: {epoch} Reward: {cum_reward}')\n",
    "\n",
    "    env.close()\n",
    "    return results_dqn\n",
    "\n",
    "results_dqn = dqn_main()\n",
    "\n",
    "plt.plot(results_dqn)\n",
    "plt.show()"
   ]
  }
 ],
 "metadata": {
  "accelerator": "GPU",
  "colab": {
   "collapsed_sections": [],
   "name": "Lab9_DQN_PPO.ipynb",
   "provenance": []
  },
  "kernelspec": {
   "display_name": "Python 3 (ipykernel)",
   "language": "python",
   "name": "python3"
  },
  "language_info": {
   "codemirror_mode": {
    "name": "ipython",
    "version": 3
   },
   "file_extension": ".py",
   "mimetype": "text/x-python",
   "name": "python",
   "nbconvert_exporter": "python",
   "pygments_lexer": "ipython3",
   "version": "3.11.0"
  }
 },
 "nbformat": 4,
 "nbformat_minor": 4
}
